{
 "cells": [
  {
   "cell_type": "markdown",
   "metadata": {},
   "source": [
    "# Sum of three given number"
   ]
  },
  {
   "cell_type": "code",
   "execution_count": 17,
   "metadata": {},
   "outputs": [
    {
     "name": "stdout",
     "output_type": "stream",
     "text": [
      "5\n"
     ]
    }
   ],
   "source": [
    "number=int(input('enter 3 number digit'))\n",
    "a=number%10\n",
    "number=number//10\n",
    "b=number%10\n",
    "number=number//10\n",
    "c=number%10\n",
    "print(a+b+c)"
   ]
  },
  {
   "cell_type": "markdown",
   "metadata": {},
   "source": [
    "# login program and indentation"
   ]
  },
  {
   "cell_type": "code",
   "execution_count": 39,
   "metadata": {},
   "outputs": [
    {
     "name": "stdout",
     "output_type": "stream",
     "text": [
      "Not correct\n"
     ]
    }
   ],
   "source": [
    "# login program and indentation\n",
    "# email -> nitish.campusx@gmail.com\n",
    "# password -> 1234\n",
    "\n",
    "email = input('enter email')\n",
    "password = input('enter password')\n",
    "\n",
    "if email == 'nitish.campusx@gmail.com' and password == '1234':\n",
    "  print('Welcome')\n",
    "elif email == 'nitish.campusx@gmail.com' and password != '1234':\n",
    "  # tell the user\n",
    "  print('Incorrect password')\n",
    "  password = input('enter password again')\n",
    "  if password == '1234':\n",
    "    print('Welcome,finally!')\n",
    "  else:\n",
    "    print('beta tumse na ho paayega!')\n",
    "else:\n",
    "  print('Not correct')"
   ]
  },
  {
   "cell_type": "markdown",
   "metadata": {},
   "source": [
    "# Minimum of 3 number"
   ]
  },
  {
   "cell_type": "code",
   "execution_count": 55,
   "metadata": {},
   "outputs": [
    {
     "name": "stdout",
     "output_type": "stream",
     "text": [
      "b c\n"
     ]
    }
   ],
   "source": [
    "a=int(input('min of first number'))\n",
    "b=int(input('min of second number'))\n",
    "c=int(input('min of third number'))\n",
    "if a<b and a<c :\n",
    "    print('a')\n",
    "elif b<c and c>b:\n",
    "    print('b','c')\n",
    "else:\n",
    "    print('all are equals')"
   ]
  },
  {
   "cell_type": "markdown",
   "metadata": {},
   "source": [
    "# menu driven calculator"
   ]
  },
  {
   "cell_type": "code",
   "execution_count": 58,
   "metadata": {},
   "outputs": [
    {
     "name": "stdout",
     "output_type": "stream",
     "text": [
      "10\n"
     ]
    }
   ],
   "source": [
    "fnum=int(input('enter first nm'))\n",
    "snum=int(input('enter second number'))\n",
    "op=input('enter the operator')\n",
    "if op=='+':\n",
    "    print(fnum+snum)\n",
    "elif op== '-':\n",
    "    print(fnum-snum)\n",
    "elif op =='*':\n",
    "    print(fnum*snum)\n",
    "elif op=='//':\n",
    "    print(fnum//snum)\n",
    "elif op=='%':\n",
    "    print(fnum%snum)\n",
    "    \n",
    "else:\n",
    "    print(fnum/snum)\n"
   ]
  },
  {
   "cell_type": "markdown",
   "metadata": {},
   "source": [
    "# while loop"
   ]
  },
  {
   "cell_type": "code",
   "execution_count": 70,
   "metadata": {},
   "outputs": [
    {
     "name": "stdout",
     "output_type": "stream",
     "text": [
      "7\n",
      "42\n"
     ]
    }
   ],
   "source": [
    "number=int(input('enter the number'))\n",
    "i=1\n",
    "while i<11:\n",
    "    print(i*number)\n",
    "    i+=5"
   ]
  },
  {
   "cell_type": "code",
   "execution_count": 93,
   "metadata": {},
   "outputs": [
    {
     "name": "stdout",
     "output_type": "stream",
     "text": [
      "1\n",
      "2\n",
      "3\n",
      "4\n",
      "5\n",
      "6\n",
      "7\n",
      "8\n",
      "9\n",
      "10\n",
      "limit cross\n"
     ]
    }
   ],
   "source": [
    "\n",
    "i=1\n",
    "while i<11:\n",
    "    print(i)\n",
    "    i+=1\n",
    "    \n",
    "else:\n",
    "    print(\"limit cross\")"
   ]
  },
  {
   "cell_type": "markdown",
   "metadata": {},
   "source": [
    "# Generate a random integer between 1,100"
   ]
  },
  {
   "cell_type": "code",
   "execution_count": 8,
   "metadata": {},
   "outputs": [
    {
     "name": "stdout",
     "output_type": "stream",
     "text": [
      "guess greater than thsis\n",
      "move lower than this\n",
      "move lower than this\n",
      "move lower than this\n",
      "move lower than this\n",
      "guess greater than thsis\n",
      "guess greater than thsis\n",
      "guess greater than thsis\n",
      "guess greater than thsis\n",
      "guess greater than thsis\n",
      "correct\n",
      "attempts 11\n"
     ]
    }
   ],
   "source": [
    "import random\n",
    "jackpot=random.randint(1,100)\n",
    "guess=int(input('enter the guess number'))\n",
    "counter=1\n",
    "while guess!=jackpot:\n",
    "    if guess < jackpot:\n",
    "        print('guess greater than thsis')\n",
    "    else:\n",
    "        print('move lower than this')\n",
    "    guess=int(input('enter the guess number'))\n",
    "    counter+=1\n",
    "else:\n",
    "     print(\"correct\")\n",
    "     print(\"attempts\",counter)"
   ]
  },
  {
   "cell_type": "markdown",
   "metadata": {},
   "source": [
    "# Program - The current population of a town is 10000. The population of the town is increasing at the rate of 10% per year. You have to write a program to find out the population at the end of each of the last 10 years."
   ]
  },
  {
   "cell_type": "code",
   "execution_count": 15,
   "metadata": {},
   "outputs": [
    {
     "name": "stdout",
     "output_type": "stream",
     "text": [
      "10 9000.0\n",
      "9 9000.0\n",
      "8 9000.0\n",
      "7 9000.0\n",
      "6 9000.0\n",
      "5 9000.0\n",
      "4 9000.0\n",
      "3 9000.0\n",
      "2 9000.0\n",
      "1 9000.0\n"
     ]
    }
   ],
   "source": [
    "current_pop= 10000\n",
    "\n",
    "for i in range(10,0,-1):\n",
    "    print(i,cur_pop)\n",
    "    cur_pop= (current_pop-0.1*current_pop)\n"
   ]
  },
  {
   "cell_type": "markdown",
   "metadata": {},
   "source": [
    "Problem 1: Write a program that will give you in hand monthly salary after deduction on CTC - HRA(10%), DA(5%), PF(3%) and taxes deduction as below:\n",
    "Salary(Lakhs) : Tax(%)\n",
    "\n",
    "Below 5 : 0%\n",
    "5-10 : 10%\n",
    "10-20 : 20%\n",
    "aboove 20 : 30%\n"
   ]
  },
  {
   "cell_type": "code",
   "execution_count": 28,
   "metadata": {},
   "outputs": [
    {
     "name": "stdout",
     "output_type": "stream",
     "text": [
      "1470000.0\n"
     ]
    }
   ],
   "source": [
    "salary=int(input('nter the expected salary'))\n",
    "\n",
    "if salary<=500000:\n",
    "    print(salary)\n",
    "elif salary<=1000000:\n",
    "    print(salary-0.1*salary)\n",
    "elif salary<=2000000:\n",
    "    print(salary-0.2*salary)\n",
    "else:\n",
    "    print(salary-0.3*salary)\n"
   ]
  },
  {
   "cell_type": "markdown",
   "metadata": {},
   "source": [
    "# Write a program that will take user input of cost price and selling price and determines whether its a loss or a profit."
   ]
  },
  {
   "cell_type": "code",
   "execution_count": 33,
   "metadata": {},
   "outputs": [
    {
     "name": "stdout",
     "output_type": "stream",
     "text": [
      "loss\n"
     ]
    }
   ],
   "source": [
    "cost=int(input('enter the cost price'))\n",
    "sell=int(input('enter the selling price'))\n",
    "if cost==sell:\n",
    "    print('no loss,no benifit')\n",
    "elif cost>sell:\n",
    "    print('loss')\n",
    "else:\n",
    "    print('profit')"
   ]
  },
  {
   "cell_type": "markdown",
   "metadata": {},
   "source": [
    "# Write a program that take a user input of three angles and will find out whether it can form a triangle or not."
   ]
  },
  {
   "cell_type": "code",
   "execution_count": 34,
   "metadata": {},
   "outputs": [
    {
     "name": "stdout",
     "output_type": "stream",
     "text": [
      "sum of three angles equal to triangle\n"
     ]
    }
   ],
   "source": [
    "fangle=int(input('enter first angle'))\n",
    "sangle=int(input('enter second angle'))\n",
    "tangle=int(input('enter third angle'))\n",
    "triangle=180\n",
    "if fangle+sangle+tangle==triangle:\n",
    "    print('sum of three angles equal to triangle')\n",
    "else:\n",
    "    print('sum of three angles are not equal to triangle')\n"
   ]
  },
  {
   "cell_type": "markdown",
   "metadata": {},
   "source": [
    "# Write a menu-driven program -\n",
    "cm to ft\n",
    "km to miles\n",
    "USD to INR\n",
    "exit"
   ]
  },
  {
   "cell_type": "code",
   "execution_count": 40,
   "metadata": {},
   "outputs": [
    {
     "name": "stdout",
     "output_type": "stream",
     "text": [
      "exit\n"
     ]
    }
   ],
   "source": [
    "menu=input(\"\"\" \n",
    "          1. enter 1 cm to ft\n",
    "          2. enter 2 km to miles\n",
    "          3. enter 3 USD to INR\n",
    "          4. enter 4 exit\"\"\")\n",
    "if menu==1:\n",
    "    print('cm to fet')\n",
    "elif menu == '2':\n",
    "  print('cm to miles')\n",
    "elif menu == '3':\n",
    "  print('usd to INR')\n",
    "else:\n",
    "    print('exit')"
   ]
  },
  {
   "cell_type": "code",
   "execution_count": 6,
   "metadata": {},
   "outputs": [
    {
     "name": "stdout",
     "output_type": "stream",
     "text": [
      "44\n",
      "44\n",
      "154\n",
      "stop u enter zero\n"
     ]
    }
   ],
   "source": [
    "fnum=int(input('enter the first number'))\n",
    "snum=int(input('enter the second number'))\n",
    "\n",
    "while fnum!=0 and snum!=0:\n",
    "    if fnum>0 and snum>0:\n",
    "        print(fnum+snum)\n",
    "    fnum=int(input('enter the first number'))\n",
    "    snum=int(input('enter the second number'))\n",
    "else:\n",
    "    print('stop u enter zero')\n",
    "    \n",
    "    \n",
    "    "
   ]
  },
  {
   "cell_type": "code",
   "execution_count": 57,
   "metadata": {},
   "outputs": [
    {
     "name": "stdout",
     "output_type": "stream",
     "text": [
      "2002 2009 2016 2023 2037 2044 2051 2058 2072 2079 2086 2093 2107 2114 2121 2128 2142 2149 2156 2163 2177 2184 2191 2198 2212 2219 2226 2233 2247 2254 2261 2268 2282 2289 2296 2303 2317 2324 2331 2338 2352 2359 2366 2373 2387 2394 2401 2408 2422 2429 2436 2443 2457 2464 2471 2478 2492 2499 2506 2513 2527 2534 2541 2548 2562 2569 2576 2583 2597 2604 2611 2618 2632 2639 2646 2653 2667 2674 2681 2688 2702 2709 2716 2723 2737 2744 2751 2758 2772 2779 2786 2793 2807 2814 2821 2828 2842 2849 2856 2863 2877 2884 2891 2898 2912 2919 2926 2933 2947 2954 2961 2968 2982 2989 2996 3003 3017 3024 3031 3038 3052 3059 3066 3073 3087 3094 3101 3108 3122 3129 3136 3143 3157 3164 3171 3178 3192 3199\n"
     ]
    }
   ],
   "source": [
    "result=[]\n",
    "for num in range(2000,3200):\n",
    "    if num%7==0 and num%5!=0:\n",
    "        result.append(str(num))\n",
    "print(' '.join(result))\n"
   ]
  },
  {
   "cell_type": "code",
   "execution_count": 62,
   "metadata": {},
   "outputs": [
    {
     "name": "stdout",
     "output_type": "stream",
     "text": [
      "['2000', '2002', '2004', '2006', '2008', '2020', '2022', '2024', '2026', '2028', '2040', '2042', '2044', '2046', '2048', '2060', '2062', '2064', '2066', '2068', '2080', '2082', '2084', '2086', '2088', '2200', '2202', '2204', '2206', '2208', '2220', '2222', '2224', '2226', '2228', '2240', '2242', '2244', '2246', '2248', '2260', '2262', '2264', '2266', '2268', '2280', '2282', '2284', '2286', '2288', '2400', '2402', '2404', '2406', '2408', '2420', '2422', '2424', '2426', '2428', '2440', '2442', '2444', '2446', '2448', '2460', '2462', '2464', '2466', '2468', '2480', '2482', '2484', '2486', '2488', '2600', '2602', '2604', '2606', '2608', '2620', '2622', '2624', '2626', '2628', '2640', '2642', '2644', '2646', '2648', '2660', '2662', '2664', '2666', '2668', '2680', '2682', '2684', '2686', '2688', '2800', '2802', '2804', '2806', '2808', '2820', '2822', '2824', '2826', '2828', '2840', '2842', '2844', '2846', '2848', '2860', '2862', '2864', '2866', '2868', '2880', '2882', '2884', '2886', '2888']\n"
     ]
    }
   ],
   "source": [
    "result=[]\n",
    "for num in range (1000,3000):\n",
    "   if  num%2==0:\n",
    "    if all(int(digit) % 2 == 0 for digit in str(num)):\n",
    "     result.append(str(num))\n",
    "print(result,sep=',')"
   ]
  },
  {
   "cell_type": "code",
   "execution_count": null,
   "metadata": {},
   "outputs": [],
   "source": []
  }
 ],
 "metadata": {
  "kernelspec": {
   "display_name": "Python 3",
   "language": "python",
   "name": "python3"
  },
  "language_info": {
   "codemirror_mode": {
    "name": "ipython",
    "version": 3
   },
   "file_extension": ".py",
   "mimetype": "text/x-python",
   "name": "python",
   "nbconvert_exporter": "python",
   "pygments_lexer": "ipython3",
   "version": "3.12.0"
  }
 },
 "nbformat": 4,
 "nbformat_minor": 2
}
